{
 "cells": [
  {
   "cell_type": "markdown",
   "metadata": {},
   "source": [
    "## 練習時間\n",
    "在小量的資料上，我們用眼睛就可以看得出來程式碼是否有跑出我們理想中的結果\n",
    "\n",
    "請嘗試想像一個你需要的資料結構 (裡面的值可以是隨機的)，然後用上述的方法把它變成 pandas DataFrame\n",
    "\n",
    "#### Ex: 想像一個 dataframe 有兩個欄位，一個是國家，一個是人口，求人口數最多的國家\n",
    "\n",
    "### Hints: [隨機產生數值](https://blog.csdn.net/christianashannon/article/details/78867204)"
   ]
  },
  {
   "cell_type": "code",
   "execution_count": 1,
   "metadata": {},
   "outputs": [],
   "source": [
    "import pandas as pd\n",
    "import numpy as np"
   ]
  },
  {
   "cell_type": "code",
   "execution_count": 16,
   "metadata": {},
   "outputs": [
    {
     "name": "stdout",
     "output_type": "stream",
     "text": [
      "            國家        人口\n",
      "0       Taiwan  41951425\n",
      "1     Malaysia  42400368\n",
      "2          USA  47041031\n",
      "3        Japan  31533974\n",
      "4        China  18641913\n",
      "5  Switzerland  30892694\n"
     ]
    }
   ],
   "source": [
    "#data = {'國家': ['Taiwan','Malaysia','USA','Japan','China','Switzerland'],\n",
    "        #'人口': ['23584865','32580500','328383000','126420000','1395850000','8526932']}\n",
    "#data = pd.DataFrame(data)\n",
    "#note:numpy.random.randint(low, high=None, size=None, dtype='l')\n",
    "#返回随机整数，范围区间为[low,high），包含low，不包含high\n",
    "#参数：low为最小值，high为最大值，size为数组维度大小，dtype为数据类型，默认的数据类型是np.int\n",
    "#high没有填写时，默认生成随机数的范围是[0，low)\n",
    "data = {'國家': ['Taiwan','Malaysia','USA','Japan','China','Switzerland'],\n",
    "        '人口': np.random.randint(100000,100000000,size=6)}\n",
    "data = pd.DataFrame(data)\n",
    "print(data)\n"
   ]
  },
  {
   "cell_type": "code",
   "execution_count": 22,
   "metadata": {},
   "outputs": [
    {
     "data": {
      "text/plain": [
       "國家         USA\n",
       "人口    47041031\n",
       "dtype: object"
      ]
     },
     "execution_count": 22,
     "metadata": {},
     "output_type": "execute_result"
    }
   ],
   "source": [
    "#note:http://www.datasciencemadesimple.com/get-maximum-value-column-python-pandas/\n",
    "data.max()"
   ]
  },
  {
   "cell_type": "code",
   "execution_count": null,
   "metadata": {},
   "outputs": [],
   "source": []
  },
  {
   "cell_type": "code",
   "execution_count": null,
   "metadata": {},
   "outputs": [],
   "source": []
  }
 ],
 "metadata": {
  "kernelspec": {
   "display_name": "Python 3",
   "language": "python",
   "name": "python3"
  },
  "language_info": {
   "codemirror_mode": {
    "name": "ipython",
    "version": 3
   },
   "file_extension": ".py",
   "mimetype": "text/x-python",
   "name": "python",
   "nbconvert_exporter": "python",
   "pygments_lexer": "ipython3",
   "version": "3.7.1"
  }
 },
 "nbformat": 4,
 "nbformat_minor": 2
}
